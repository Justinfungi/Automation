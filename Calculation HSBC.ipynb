{
 "cells": [
  {
   "cell_type": "code",
   "execution_count": 2,
   "id": "bfd83f15",
   "metadata": {
    "ExecuteTime": {
     "end_time": "2022-10-22T15:38:34.992308Z",
     "start_time": "2022-10-22T15:38:34.925643Z"
    }
   },
   "outputs": [
    {
     "data": {
      "text/plain": [
       "array([15.518, 74.175, 61.3  , 86.33 ])"
      ]
     },
     "execution_count": 2,
     "metadata": {},
     "output_type": "execute_result"
    }
   ],
   "source": [
    "import numpy as np\n",
    "a = np.array([0.22,0.24,0.30,0.24])\n",
    "a*1900000\n",
    "\n",
    "b = np.array([10.05,5.43,5.36,5.96])\n",
    "c = np.array([196,1450,1250,1525])\n",
    "\n",
    "(b * c * 1000 - a*1900000)/100000"
   ]
  },
  {
   "cell_type": "code",
   "execution_count": null,
   "id": "ba34d7a3",
   "metadata": {},
   "outputs": [],
   "source": []
  },
  {
   "cell_type": "code",
   "execution_count": 4,
   "id": "589e7667",
   "metadata": {
    "ExecuteTime": {
     "end_time": "2022-10-22T15:39:40.181317Z",
     "start_time": "2022-10-22T15:39:40.174019Z"
    }
   },
   "outputs": [
    {
     "data": {
      "text/plain": [
       "55.20449359311919"
      ]
     },
     "execution_count": 4,
     "metadata": {},
     "output_type": "execute_result"
    }
   ],
   "source": [
    "a=98.5+500+450+1800\n",
    "b=196+1450+1250+1525\n",
    "\n",
    "(b-a)/a *100"
   ]
  },
  {
   "cell_type": "code",
   "execution_count": 27,
   "id": "e7f3ec9e",
   "metadata": {
    "ExecuteTime": {
     "end_time": "2022-10-22T15:55:14.675356Z",
     "start_time": "2022-10-22T15:55:14.670520Z"
    }
   },
   "outputs": [],
   "source": [
    "def _sum(arr):\n",
    " \n",
    "    # initialize a variable\n",
    "    # to store the sum\n",
    "    # while iterating through\n",
    "    # the array later\n",
    "    sum = 0\n",
    " \n",
    "    # iterate through the array\n",
    "    # and add each element to the sum variable\n",
    "    # one at a time\n",
    "    for i in arr:\n",
    "        sum = sum + i\n",
    " \n",
    "    return(sum)"
   ]
  },
  {
   "cell_type": "code",
   "execution_count": 10,
   "id": "8fd201ae",
   "metadata": {
    "ExecuteTime": {
     "end_time": "2022-10-22T15:44:08.890074Z",
     "start_time": "2022-10-22T15:44:08.882555Z"
    }
   },
   "outputs": [
    {
     "name": "stdout",
     "output_type": "stream",
     "text": [
      "2428.0\n"
     ]
    },
    {
     "data": {
      "text/plain": [
       "2672.0"
      ]
     },
     "execution_count": 10,
     "metadata": {},
     "output_type": "execute_result"
    }
   ],
   "source": [
    "a = np.array([1,1,1,1])\n",
    "\n",
    "b = np.array([0.56,0.48,0.36,0.61])\n",
    "\n",
    "c = np.array([350,1850,1700,1200])\n",
    "\n",
    "d = c*b\n",
    "\n",
    "print(_sum(d))\n",
    "\n",
    "_sum(c)-_sum(d)"
   ]
  },
  {
   "cell_type": "code",
   "execution_count": 24,
   "id": "615efbac",
   "metadata": {
    "ExecuteTime": {
     "end_time": "2022-10-22T15:51:42.255271Z",
     "start_time": "2022-10-22T15:51:42.246050Z"
    }
   },
   "outputs": [
    {
     "name": "stdout",
     "output_type": "stream",
     "text": [
      "[[  791940.  1969800.  5250000.]\n",
      " [ 2170000.  7873500. 14985000.]\n",
      " [ 1930500.  6700000. 13600000.]\n",
      " [ 8586000.  9089000. 10680000.]]\n",
      "hah\n",
      "83625740.0\n"
     ]
    },
    {
     "data": {
      "text/plain": [
       "6.76064028457092"
      ]
     },
     "execution_count": 24,
     "metadata": {},
     "output_type": "execute_result"
    }
   ],
   "source": [
    "def _sum(arr):\n",
    " \n",
    "    # initialize a variable\n",
    "    # to store the sum\n",
    "    # while iterating through\n",
    "    # the array later\n",
    "    sum = 0\n",
    " \n",
    "    # iterate through the array\n",
    "    # and add each element to the sum variable\n",
    "    # one at a time\n",
    "    for i in arr:\n",
    "        for j in i:\n",
    "            sum = sum + j\n",
    " \n",
    "    return(sum)\n",
    "c = np.array([[8.04,10.05,15.00],[4.34,5.43,8.10],[4.29,5.36,8.00],[4.77,5.96,8.90]])\n",
    "d = np.array([[98.5,196,350],[500,1450,1850],[450,1250,1700],[1800,1525,1200]])\n",
    "\n",
    "print(c * d * 1000)\n",
    "print(\"hah\")\n",
    "print(_sum(c * d * 1000))\n",
    "_sum(c * d * 1000) / _sum(d * 1000)"
   ]
  },
  {
   "cell_type": "code",
   "execution_count": 29,
   "id": "22c10966",
   "metadata": {
    "ExecuteTime": {
     "end_time": "2022-10-22T15:55:25.407793Z",
     "start_time": "2022-10-22T15:55:25.400184Z"
    }
   },
   "outputs": [
    {
     "data": {
      "text/plain": [
       "array([2848.5, 4421. , 5100. ])"
      ]
     },
     "execution_count": 29,
     "metadata": {},
     "output_type": "execute_result"
    }
   ],
   "source": [
    "d = np.array([[98.5,196,350],[500,1450,1850],[450,1250,1700],[1800,1525,1200]])\n",
    "d\n",
    "_sum(d)"
   ]
  },
  {
   "cell_type": "code",
   "execution_count": 26,
   "id": "20e3bb87",
   "metadata": {
    "ExecuteTime": {
     "end_time": "2022-10-26T04:43:51.517261Z",
     "start_time": "2022-10-26T04:43:51.508689Z"
    }
   },
   "outputs": [
    {
     "name": "stdout",
     "output_type": "stream",
     "text": [
      "0.528\n",
      "0.618\n",
      "0.729\n",
      "0.73\n"
     ]
    }
   ],
   "source": [
    "def lu(lst2):\n",
    "    a,b = lst2\n",
    "    print(round((b-a)*0.382+a,3))\n",
    "    print(round((b-a)*0.618+a,3))\n",
    "    \n",
    "    return([(b-a)*0.382+a,(b-a)*0.618+a])\n",
    "\n",
    "\n",
    "\n",
    "from math import e\n",
    "def fe(lst):\n",
    "    for i in lst:\n",
    "        print(round(e**(-i)+i**2/2,3))\n",
    " \n",
    "boundary=[0.382,0.764]\n",
    "\n",
    "fe(lu(boundary))\n",
    "\n"
   ]
  },
  {
   "cell_type": "code",
   "execution_count": 33,
   "id": "2fab83d0",
   "metadata": {
    "ExecuteTime": {
     "end_time": "2022-10-26T04:50:06.211621Z",
     "start_time": "2022-10-26T04:50:06.204009Z"
    }
   },
   "outputs": [
    {
     "data": {
      "text/plain": [
       "3.3441696797965283"
      ]
     },
     "execution_count": 33,
     "metadata": {},
     "output_type": "execute_result"
    }
   ],
   "source": [
    "import numpy as np\n",
    "\n",
    "np.log(0.2)/np.log(0.618)\n",
    "\n",
    "0.618*0.618*0.618*0.618\n",
    "\n",
    "(np.log(0.2)-np.log(1))/np.log(0.618)\n"
   ]
  }
 ],
 "metadata": {
  "kernelspec": {
   "display_name": "Python 3 (ipykernel)",
   "language": "python",
   "name": "python3"
  },
  "language_info": {
   "codemirror_mode": {
    "name": "ipython",
    "version": 3
   },
   "file_extension": ".py",
   "mimetype": "text/x-python",
   "name": "python",
   "nbconvert_exporter": "python",
   "pygments_lexer": "ipython3",
   "version": "3.9.12"
  },
  "toc": {
   "base_numbering": 1,
   "nav_menu": {},
   "number_sections": true,
   "sideBar": true,
   "skip_h1_title": false,
   "title_cell": "Table of Contents",
   "title_sidebar": "Contents",
   "toc_cell": false,
   "toc_position": {},
   "toc_section_display": true,
   "toc_window_display": false
  }
 },
 "nbformat": 4,
 "nbformat_minor": 5
}
