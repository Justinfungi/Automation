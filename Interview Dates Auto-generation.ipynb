{
 "cells": [
  {
   "cell_type": "code",
   "execution_count": 30,
   "id": "3a97470c",
   "metadata": {
    "ExecuteTime": {
     "end_time": "2022-10-22T10:09:40.533701Z",
     "start_time": "2022-10-22T10:09:35.155923Z"
    },
    "scrolled": true
   },
   "outputs": [
    {
     "name": "stdout",
     "output_type": "stream",
     "text": [
      "In format of MM/DD 11/21\n",
      "In format of MM/DD 12/2\n",
      "1) Nov 21\n",
      "2) Nov 22\n",
      "3) Nov 23\n",
      "4) Nov 24\n",
      "5) Nov 25\n",
      "6) Nov 26\n",
      "7) Nov 27\n",
      "8) Nov 28\n",
      "9) Nov 29\n",
      "10) Nov 30\n",
      "11) Dec 1\n",
      "12) Dec 2\n"
     ]
    }
   ],
   "source": [
    "Start = input(\"In format of MM/DD \")\n",
    "End = input(\"In format of MM/DD \")\n",
    "\n",
    "MonthDict={1:'Jan', 2:'Feb', 3:'Mar', 4:'Apr', 5:'May', 6:'Jun', 7:'Jul', 8:'Aug', 9:'Sep', 10:'Oct', 11:'Nov', 12:'Dec'}\n",
    "\n",
    "Start=Start.split(\"/\")\n",
    "Start[0] = MonthDict[int(Start[0])]\n",
    "End=End.split(\"/\")\n",
    "End[0] = MonthDict[int(End[0])]\n",
    "\n",
    "order=1\n",
    "if Start[0]==End[0]:\n",
    "    for i in range(int(Start[1]),int(End[1])+1):\n",
    "        print(f'{order}) {Start[0]} {i}')\n",
    "        order=order+1\n",
    "else:\n",
    "    if Start[1] in [1,3,5,7,8,10,12]:\n",
    "        Enddate=31\n",
    "    else:\n",
    "        Enddate=30\n",
    "    \n",
    "    for i in range(int(Start[1]),Enddate+1):\n",
    "        print(f'{order}) {Start[0]} {i}')\n",
    "        order=order+1\n",
    "    for i in range(1,int(End[1])+1):\n",
    "        print(f'{order}) {End[0]} {i}')\n",
    "        order=order+1"
   ]
  },
  {
   "cell_type": "code",
   "execution_count": 31,
   "id": "dee1cf46",
   "metadata": {
    "ExecuteTime": {
     "end_time": "2022-10-22T15:31:41.382617Z",
     "start_time": "2022-10-22T15:31:41.320403Z"
    }
   },
   "outputs": [],
   "source": [
    "import numpy as np"
   ]
  },
  {
   "cell_type": "code",
   "execution_count": null,
   "id": "f1a8467e",
   "metadata": {},
   "outputs": [],
   "source": []
  }
 ],
 "metadata": {
  "kernelspec": {
   "display_name": "Python 3 (ipykernel)",
   "language": "python",
   "name": "python3"
  },
  "language_info": {
   "codemirror_mode": {
    "name": "ipython",
    "version": 3
   },
   "file_extension": ".py",
   "mimetype": "text/x-python",
   "name": "python",
   "nbconvert_exporter": "python",
   "pygments_lexer": "ipython3",
   "version": "3.9.12"
  },
  "toc": {
   "base_numbering": 1,
   "nav_menu": {},
   "number_sections": true,
   "sideBar": true,
   "skip_h1_title": false,
   "title_cell": "Table of Contents",
   "title_sidebar": "Contents",
   "toc_cell": false,
   "toc_position": {},
   "toc_section_display": true,
   "toc_window_display": false
  }
 },
 "nbformat": 4,
 "nbformat_minor": 5
}
