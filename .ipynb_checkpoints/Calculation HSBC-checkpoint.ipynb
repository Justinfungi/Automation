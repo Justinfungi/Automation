{
 "cells": [
  {
   "cell_type": "code",
   "execution_count": 2,
   "id": "bfd83f15",
   "metadata": {
    "ExecuteTime": {
     "end_time": "2022-10-22T15:38:34.992308Z",
     "start_time": "2022-10-22T15:38:34.925643Z"
    }
   },
   "outputs": [
    {
     "data": {
      "text/plain": [
       "array([15.518, 74.175, 61.3  , 86.33 ])"
      ]
     },
     "execution_count": 2,
     "metadata": {},
     "output_type": "execute_result"
    }
   ],
   "source": [
    "import numpy as np\n",
    "a = np.array([0.22,0.24,0.30,0.24])\n",
    "a*1900000\n",
    "\n",
    "b = np.array([10.05,5.43,5.36,5.96])\n",
    "c = np.array([196,1450,1250,1525])\n",
    "\n",
    "(b * c * 1000 - a*1900000)/100000"
   ]
  },
  {
   "cell_type": "code",
   "execution_count": null,
   "id": "151dbcac",
   "metadata": {},
   "outputs": [],
   "source": []
  },
  {
   "cell_type": "code",
   "execution_count": 4,
   "id": "589e7667",
   "metadata": {
    "ExecuteTime": {
     "end_time": "2022-10-22T15:39:40.181317Z",
     "start_time": "2022-10-22T15:39:40.174019Z"
    }
   },
   "outputs": [
    {
     "data": {
      "text/plain": [
       "55.20449359311919"
      ]
     },
     "execution_count": 4,
     "metadata": {},
     "output_type": "execute_result"
    }
   ],
   "source": [
    "a=98.5+500+450+1800\n",
    "b=196+1450+1250+1525\n",
    "\n",
    "(b-a)/a *100"
   ]
  },
  {
   "cell_type": "code",
   "execution_count": 27,
   "id": "e7f3ec9e",
   "metadata": {
    "ExecuteTime": {
     "end_time": "2022-10-22T15:55:14.675356Z",
     "start_time": "2022-10-22T15:55:14.670520Z"
    }
   },
   "outputs": [],
   "source": [
    "def _sum(arr):\n",
    " \n",
    "    # initialize a variable\n",
    "    # to store the sum\n",
    "    # while iterating through\n",
    "    # the array later\n",
    "    sum = 0\n",
    " \n",
    "    # iterate through the array\n",
    "    # and add each element to the sum variable\n",
    "    # one at a time\n",
    "    for i in arr:\n",
    "        sum = sum + i\n",
    " \n",
    "    return(sum)"
   ]
  },
  {
   "cell_type": "code",
   "execution_count": 10,
   "id": "8fd201ae",
   "metadata": {
    "ExecuteTime": {
     "end_time": "2022-10-22T15:44:08.890074Z",
     "start_time": "2022-10-22T15:44:08.882555Z"
    }
   },
   "outputs": [
    {
     "name": "stdout",
     "output_type": "stream",
     "text": [
      "2428.0\n"
     ]
    },
    {
     "data": {
      "text/plain": [
       "2672.0"
      ]
     },
     "execution_count": 10,
     "metadata": {},
     "output_type": "execute_result"
    }
   ],
   "source": [
    "a = np.array([1,1,1,1])\n",
    "\n",
    "b = np.array([0.56,0.48,0.36,0.61])\n",
    "\n",
    "c = np.array([350,1850,1700,1200])\n",
    "\n",
    "d = c*b\n",
    "\n",
    "print(_sum(d))\n",
    "\n",
    "_sum(c)-_sum(d)"
   ]
  },
  {
   "cell_type": "code",
   "execution_count": 24,
   "id": "615efbac",
   "metadata": {
    "ExecuteTime": {
     "end_time": "2022-10-22T15:51:42.255271Z",
     "start_time": "2022-10-22T15:51:42.246050Z"
    }
   },
   "outputs": [
    {
     "name": "stdout",
     "output_type": "stream",
     "text": [
      "[[  791940.  1969800.  5250000.]\n",
      " [ 2170000.  7873500. 14985000.]\n",
      " [ 1930500.  6700000. 13600000.]\n",
      " [ 8586000.  9089000. 10680000.]]\n",
      "hah\n",
      "83625740.0\n"
     ]
    },
    {
     "data": {
      "text/plain": [
       "6.76064028457092"
      ]
     },
     "execution_count": 24,
     "metadata": {},
     "output_type": "execute_result"
    }
   ],
   "source": [
    "def _sum(arr):\n",
    " \n",
    "    # initialize a variable\n",
    "    # to store the sum\n",
    "    # while iterating through\n",
    "    # the array later\n",
    "    sum = 0\n",
    " \n",
    "    # iterate through the array\n",
    "    # and add each element to the sum variable\n",
    "    # one at a time\n",
    "    for i in arr:\n",
    "        for j in i:\n",
    "            sum = sum + j\n",
    " \n",
    "    return(sum)\n",
    "c = np.array([[8.04,10.05,15.00],[4.34,5.43,8.10],[4.29,5.36,8.00],[4.77,5.96,8.90]])\n",
    "d = np.array([[98.5,196,350],[500,1450,1850],[450,1250,1700],[1800,1525,1200]])\n",
    "\n",
    "print(c * d * 1000)\n",
    "print(\"hah\")\n",
    "print(_sum(c * d * 1000))\n",
    "_sum(c * d * 1000) / _sum(d * 1000)"
   ]
  },
  {
   "cell_type": "code",
   "execution_count": 29,
   "id": "22c10966",
   "metadata": {
    "ExecuteTime": {
     "end_time": "2022-10-22T15:55:25.407793Z",
     "start_time": "2022-10-22T15:55:25.400184Z"
    }
   },
   "outputs": [
    {
     "data": {
      "text/plain": [
       "array([2848.5, 4421. , 5100. ])"
      ]
     },
     "execution_count": 29,
     "metadata": {},
     "output_type": "execute_result"
    }
   ],
   "source": [
    "d = np.array([[98.5,196,350],[500,1450,1850],[450,1250,1700],[1800,1525,1200]])\n",
    "d\n",
    "_sum(d)"
   ]
  },
  {
   "cell_type": "code",
   "execution_count": 16,
   "id": "8de1966b",
   "metadata": {
    "ExecuteTime": {
     "end_time": "2022-10-26T04:38:27.038302Z",
     "start_time": "2022-10-26T04:38:27.012314Z"
    }
   },
   "outputs": [
    {
     "name": "stdout",
     "output_type": "stream",
     "text": [
      "0.763924\n",
      "0.6180760000000001\n"
     ]
    },
    {
     "ename": "NameError",
     "evalue": "name 'reutrn' is not defined",
     "output_type": "error",
     "traceback": [
      "\u001b[0;31m---------------------------------------------------------------------------\u001b[0m",
      "\u001b[0;31mNameError\u001b[0m                                 Traceback (most recent call last)",
      "Input \u001b[0;32mIn [16]\u001b[0m, in \u001b[0;36m<cell line: 1>\u001b[0;34m()\u001b[0m\n\u001b[0;32m----> 1\u001b[0m \u001b[43mlu\u001b[49m\u001b[43m(\u001b[49m\u001b[43m[\u001b[49m\u001b[38;5;241;43m0.382\u001b[39;49m\u001b[43m,\u001b[49m\u001b[38;5;241;43m1\u001b[39;49m\u001b[43m]\u001b[49m\u001b[43m)\u001b[49m\n\u001b[1;32m      2\u001b[0m \u001b[38;5;28;01mdef\u001b[39;00m \u001b[38;5;21mlu\u001b[39m(lst2):\n\u001b[1;32m      3\u001b[0m     a,b \u001b[38;5;241m=\u001b[39m lst2\n",
      "Input \u001b[0;32mIn [15]\u001b[0m, in \u001b[0;36mlu\u001b[0;34m(lst2)\u001b[0m\n\u001b[1;32m      4\u001b[0m \u001b[38;5;28mprint\u001b[39m((b\u001b[38;5;241m-\u001b[39ma)\u001b[38;5;241m*\u001b[39m\u001b[38;5;241m0.618\u001b[39m\u001b[38;5;241m+\u001b[39ma)\n\u001b[1;32m      5\u001b[0m \u001b[38;5;28mprint\u001b[39m((b\u001b[38;5;241m-\u001b[39ma)\u001b[38;5;241m*\u001b[39m\u001b[38;5;241m0.382\u001b[39m\u001b[38;5;241m+\u001b[39ma)\n\u001b[0;32m----> 6\u001b[0m \u001b[43mreutrn\u001b[49m([(b\u001b[38;5;241m-\u001b[39ma)\u001b[38;5;241m*\u001b[39m\u001b[38;5;241m0.382\u001b[39m\u001b[38;5;241m+\u001b[39ma,(b\u001b[38;5;241m-\u001b[39ma)\u001b[38;5;241m*\u001b[39m\u001b[38;5;241m0.618\u001b[39m\u001b[38;5;241m+\u001b[39ma])\n",
      "\u001b[0;31mNameError\u001b[0m: name 'reutrn' is not defined"
     ]
    }
   ],
   "source": [
    "lu([0.382,1])\n",
    "def lu(lst2):\n",
    "    a,b = lst2\n",
    "    print((b-a)*0.618+a)\n",
    "    print((b-a)*0.382+a)\n",
    "    return([(b-a)*0.382+a,(b-a)*0.618+a])\n",
    "\n",
    "\n",
    "from math import e\n",
    "def fe(lst):\n",
    "    for i in lst:\n",
    "        print(e**(-i)+i**2/2)\n",
    "        \n",
    "fe(lu([0.382,1]))\n"
   ]
  }
 ],
 "metadata": {
  "kernelspec": {
   "display_name": "Python 3 (ipykernel)",
   "language": "python",
   "name": "python3"
  },
  "language_info": {
   "codemirror_mode": {
    "name": "ipython",
    "version": 3
   },
   "file_extension": ".py",
   "mimetype": "text/x-python",
   "name": "python",
   "nbconvert_exporter": "python",
   "pygments_lexer": "ipython3",
   "version": "3.9.12"
  },
  "toc": {
   "base_numbering": 1,
   "nav_menu": {},
   "number_sections": true,
   "sideBar": true,
   "skip_h1_title": false,
   "title_cell": "Table of Contents",
   "title_sidebar": "Contents",
   "toc_cell": false,
   "toc_position": {},
   "toc_section_display": true,
   "toc_window_display": false
  }
 },
 "nbformat": 4,
 "nbformat_minor": 5
}
