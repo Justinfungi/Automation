{
 "cells": [
  {
   "cell_type": "code",
   "execution_count": null,
   "id": "2120af14",
   "metadata": {},
   "outputs": [],
   "source": [
    "import subprocess\n",
    "import ffmpeg\n",
    "class FFMConvertor:\n",
    "    def convert_webm_mp4_subprocess(self, input_file, output_file):\n",
    "        try:\n",
    "\n",
    "            command=\"ffmpeg -i\" + input_file +\" \"+ output_file\n",
    "            subprocess.run(command)\n",
    "\n",
    "        except:\n",
    "            print(\"Some Exception\")\n",
    "    def convert_webm_mp4_module(self, input_file, output_file):\n",
    "        try:\n",
    "            stream = ffmpeg.input(input_file)\n",
    "            stream = ffmpeg.output(stream, output_file)\n",
    "            ffmpeg.run(stream)\n",
    "        except:\n",
    "            print(\"Some Exception\")\n",
    "\n",
    "filename = input(\"file name?\")\n",
    "ffm = FFMConvertor()\n",
    "#ffm.convert_webm_mp4_subprocess(f\"{filename}.webm\",f\"{filename}.mp3\")\n",
    "ffm.convert_webm_mp4_module(r\"202212262013.webm\",r\"202212262013.mp4\")"
   ]
  }
 ],
 "metadata": {
  "kernelspec": {
   "display_name": "comp3340",
   "language": "python",
   "name": "comp3340"
  },
  "language_info": {
   "codemirror_mode": {
    "name": "ipython",
    "version": 3
   },
   "file_extension": ".py",
   "mimetype": "text/x-python",
   "name": "python",
   "nbconvert_exporter": "python",
   "pygments_lexer": "ipython3",
   "version": "3.7.7"
  },
  "toc": {
   "base_numbering": 1,
   "nav_menu": {},
   "number_sections": true,
   "sideBar": true,
   "skip_h1_title": false,
   "title_cell": "Table of Contents",
   "title_sidebar": "Contents",
   "toc_cell": false,
   "toc_position": {},
   "toc_section_display": true,
   "toc_window_display": false
  }
 },
 "nbformat": 4,
 "nbformat_minor": 5
}
