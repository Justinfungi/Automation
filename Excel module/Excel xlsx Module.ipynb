{
 "cells": [
  {
   "cell_type": "markdown",
   "id": "d31d3ad1",
   "metadata": {
    "heading_collapsed": true
   },
   "source": [
    "# Massive operation"
   ]
  },
  {
   "cell_type": "markdown",
   "id": "e2745fc9",
   "metadata": {
    "heading_collapsed": true,
    "hidden": true
   },
   "source": [
    "## Massive creation"
   ]
  },
  {
   "cell_type": "code",
   "execution_count": 58,
   "id": "235396fc",
   "metadata": {
    "hidden": true
   },
   "outputs": [],
   "source": [
    "import xlwings as xw\n",
    "\n",
    "app = xw.App(visible=True, add_book=False)\n",
    "\n",
    "for dept in [\"Tech\",\"Sales\",\"MAnage\",\"Financial\"]:\n",
    "    workbook= app.books.add()\n",
    "    workbook.save(f\"./dept_performance-{dept}.xlsx\")"
   ]
  },
  {
   "cell_type": "markdown",
   "id": "6971248d",
   "metadata": {
    "hidden": true
   },
   "source": [
    "## Massive open"
   ]
  },
  {
   "cell_type": "code",
   "execution_count": null,
   "id": "93fbc1e0",
   "metadata": {
    "hidden": true
   },
   "outputs": [],
   "source": [
    "import os \n",
    "import xlwings as xw\n",
    "\n",
    "app = xw.App(visible=True, add_book=False)\n",
    "\n",
    "for file in os.listdir(\".\"):\n",
    "    if file.endwith(\"xlsx\"):\n",
    "        app.books.open(file)"
   ]
  },
  {
   "cell_type": "markdown",
   "id": "bc240be6",
   "metadata": {
    "hidden": true
   },
   "source": [
    "## Massive rename of worksheet"
   ]
  },
  {
   "cell_type": "code",
   "execution_count": 63,
   "id": "e2112a16",
   "metadata": {
    "hidden": true
   },
   "outputs": [],
   "source": [
    "import xlwings as xw\n",
    "\n",
    "app = xw.App(visible=False, add_book=False)\n",
    "wb = app.books.open(\"/Users/zhangdemei/Desktop/Boston-House-Prices.xlsx\")\n",
    "for sheet in wb.sheets:\n",
    "    sheet.name = sheet.name.replace(\"Sheet\",\"HAPPY\")\n",
    "    \n",
    "wb.save()\n",
    "app.quit()"
   ]
  },
  {
   "cell_type": "markdown",
   "id": "0fbd223b",
   "metadata": {
    "heading_collapsed": true,
    "hidden": true
   },
   "source": [
    "## Massive combination of worksheet"
   ]
  },
  {
   "cell_type": "code",
   "execution_count": null,
   "id": "48798146",
   "metadata": {
    "hidden": true
   },
   "outputs": [],
   "source": []
  },
  {
   "cell_type": "code",
   "execution_count": null,
   "id": "264ca071",
   "metadata": {
    "hidden": true
   },
   "outputs": [],
   "source": []
  },
  {
   "cell_type": "markdown",
   "id": "ae11c2ad",
   "metadata": {
    "heading_collapsed": true
   },
   "source": [
    "# Initial"
   ]
  },
  {
   "cell_type": "code",
   "execution_count": 42,
   "id": "0e8ea9fd",
   "metadata": {
    "hidden": true
   },
   "outputs": [],
   "source": [
    "from openpyxl import Workbook, load_workbook"
   ]
  },
  {
   "cell_type": "code",
   "execution_count": 43,
   "id": "32f2d132",
   "metadata": {
    "hidden": true
   },
   "outputs": [],
   "source": [
    "wb = load_workbook(\"/Users/zhangdemei/Desktop/Boston-House-Prices.xlsx\")\n",
    "ws = wb.active"
   ]
  },
  {
   "cell_type": "code",
   "execution_count": 44,
   "id": "0859a396",
   "metadata": {
    "hidden": true
   },
   "outputs": [
    {
     "data": {
      "text/plain": [
       "99"
      ]
     },
     "execution_count": 44,
     "metadata": {},
     "output_type": "execute_result"
    }
   ],
   "source": [
    "# access cell value\n",
    "ws[\"B3\"].value"
   ]
  },
  {
   "cell_type": "code",
   "execution_count": 45,
   "id": "5b2066b4",
   "metadata": {
    "hidden": true
   },
   "outputs": [],
   "source": [
    "ws[\"B3\"].value = 99"
   ]
  },
  {
   "cell_type": "code",
   "execution_count": 46,
   "id": "44603414",
   "metadata": {
    "hidden": true
   },
   "outputs": [],
   "source": [
    "wb.save(\"/Users/zhangdemei/Desktop/Boston-House-Prices.xlsx\")"
   ]
  },
  {
   "cell_type": "markdown",
   "id": "0689142d",
   "metadata": {
    "heading_collapsed": true
   },
   "source": [
    "# different sheet"
   ]
  },
  {
   "cell_type": "code",
   "execution_count": 47,
   "id": "97a20c90",
   "metadata": {
    "hidden": true
   },
   "outputs": [],
   "source": [
    "wb = load_workbook(\"/Users/zhangdemei/Desktop/Boston-House-Prices.xlsx\")\n",
    "ws = wb.active"
   ]
  },
  {
   "cell_type": "code",
   "execution_count": 48,
   "id": "501c83d2",
   "metadata": {
    "hidden": true
   },
   "outputs": [
    {
     "data": {
      "text/plain": [
       "['Sheet2', 'Sheet1']"
      ]
     },
     "execution_count": 48,
     "metadata": {},
     "output_type": "execute_result"
    }
   ],
   "source": [
    "wb.sheetnames"
   ]
  },
  {
   "cell_type": "code",
   "execution_count": 49,
   "id": "0f044669",
   "metadata": {
    "hidden": true
   },
   "outputs": [
    {
     "data": {
      "text/plain": [
       "<Worksheet \"Sheet1\">"
      ]
     },
     "execution_count": 49,
     "metadata": {},
     "output_type": "execute_result"
    }
   ],
   "source": [
    "wb[\"Sheet1\"]"
   ]
  },
  {
   "cell_type": "code",
   "execution_count": 50,
   "id": "fa18ab1f",
   "metadata": {
    "hidden": true
   },
   "outputs": [
    {
     "data": {
      "text/plain": [
       "<Worksheet \"Test\">"
      ]
     },
     "execution_count": 50,
     "metadata": {},
     "output_type": "execute_result"
    }
   ],
   "source": [
    "wb.create_sheet(\"Test\")\n",
    "# create a new sheet"
   ]
  },
  {
   "cell_type": "code",
   "execution_count": 52,
   "id": "5fc719f7",
   "metadata": {
    "hidden": true
   },
   "outputs": [
    {
     "data": {
      "text/plain": [
       "['Sheet2', 'Sheet1', 'Test']"
      ]
     },
     "execution_count": 52,
     "metadata": {},
     "output_type": "execute_result"
    }
   ],
   "source": [
    "wb.sheetnames"
   ]
  },
  {
   "cell_type": "code",
   "execution_count": 54,
   "id": "624015c4",
   "metadata": {
    "hidden": true
   },
   "outputs": [],
   "source": [
    "ws.title= \"Data\""
   ]
  },
  {
   "cell_type": "code",
   "execution_count": 56,
   "id": "eaf3f3b2",
   "metadata": {
    "hidden": true
   },
   "outputs": [],
   "source": [
    "ws.append([\"Tim\", \"IS\", \"Great\", \"!\"])"
   ]
  },
  {
   "cell_type": "code",
   "execution_count": null,
   "id": "ec739842",
   "metadata": {
    "hidden": true
   },
   "outputs": [],
   "source": []
  }
 ],
 "metadata": {
  "kernelspec": {
   "display_name": "Python 3 (ipykernel)",
   "language": "python",
   "name": "python3"
  },
  "language_info": {
   "codemirror_mode": {
    "name": "ipython",
    "version": 3
   },
   "file_extension": ".py",
   "mimetype": "text/x-python",
   "name": "python",
   "nbconvert_exporter": "python",
   "pygments_lexer": "ipython3",
   "version": "3.9.7"
  },
  "toc": {
   "base_numbering": 1,
   "nav_menu": {},
   "number_sections": true,
   "sideBar": true,
   "skip_h1_title": false,
   "title_cell": "Table of Contents",
   "title_sidebar": "Contents",
   "toc_cell": false,
   "toc_position": {},
   "toc_section_display": true,
   "toc_window_display": false
  }
 },
 "nbformat": 4,
 "nbformat_minor": 5
}
