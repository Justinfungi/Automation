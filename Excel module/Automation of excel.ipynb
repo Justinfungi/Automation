{
 "cells": [
  {
   "cell_type": "code",
   "execution_count": 40,
   "id": "06d52b8e",
   "metadata": {
    "ExecuteTime": {
     "end_time": "2022-06-26T14:29:14.553293Z",
     "start_time": "2022-06-26T14:29:14.550890Z"
    }
   },
   "outputs": [],
   "source": [
    "#  Import"
   ]
  },
  {
   "cell_type": "code",
   "execution_count": 41,
   "id": "f6890109",
   "metadata": {
    "ExecuteTime": {
     "end_time": "2022-06-26T14:29:14.746858Z",
     "start_time": "2022-06-26T14:29:14.555256Z"
    }
   },
   "outputs": [],
   "source": [
    "import pandas as pd\n",
    "\n",
    "df= pd.read_excel(\"supermarket_sales.xlsx\")\n",
    "df1=df[[\"Gender\",\"Product line\",\"Total\"]]"
   ]
  },
  {
   "cell_type": "code",
   "execution_count": 42,
   "id": "a1bb973a",
   "metadata": {
    "ExecuteTime": {
     "end_time": "2022-06-26T14:29:14.764214Z",
     "start_time": "2022-06-26T14:29:14.748398Z"
    }
   },
   "outputs": [
    {
     "data": {
      "text/html": [
       "<div>\n",
       "<style scoped>\n",
       "    .dataframe tbody tr th:only-of-type {\n",
       "        vertical-align: middle;\n",
       "    }\n",
       "\n",
       "    .dataframe tbody tr th {\n",
       "        vertical-align: top;\n",
       "    }\n",
       "\n",
       "    .dataframe thead th {\n",
       "        text-align: right;\n",
       "    }\n",
       "</style>\n",
       "<table border=\"1\" class=\"dataframe\">\n",
       "  <thead>\n",
       "    <tr style=\"text-align: right;\">\n",
       "      <th>Product line</th>\n",
       "      <th>Electronic accessories</th>\n",
       "      <th>Fashion accessories</th>\n",
       "      <th>Food and beverages</th>\n",
       "      <th>Health and beauty</th>\n",
       "      <th>Home and lifestyle</th>\n",
       "      <th>Sports and travel</th>\n",
       "    </tr>\n",
       "    <tr>\n",
       "      <th>Gender</th>\n",
       "      <th></th>\n",
       "      <th></th>\n",
       "      <th></th>\n",
       "      <th></th>\n",
       "      <th></th>\n",
       "      <th></th>\n",
       "    </tr>\n",
       "  </thead>\n",
       "  <tbody>\n",
       "    <tr>\n",
       "      <th>Female</th>\n",
       "      <td>27102.0</td>\n",
       "      <td>30437.0</td>\n",
       "      <td>33171.0</td>\n",
       "      <td>18561.0</td>\n",
       "      <td>30037.0</td>\n",
       "      <td>28575.0</td>\n",
       "    </tr>\n",
       "    <tr>\n",
       "      <th>Male</th>\n",
       "      <td>27236.0</td>\n",
       "      <td>23868.0</td>\n",
       "      <td>22974.0</td>\n",
       "      <td>30633.0</td>\n",
       "      <td>23825.0</td>\n",
       "      <td>26548.0</td>\n",
       "    </tr>\n",
       "  </tbody>\n",
       "</table>\n",
       "</div>"
      ],
      "text/plain": [
       "Product line  Electronic accessories  Fashion accessories  Food and beverages  \\\n",
       "Gender                                                                          \n",
       "Female                       27102.0              30437.0             33171.0   \n",
       "Male                         27236.0              23868.0             22974.0   \n",
       "\n",
       "Product line  Health and beauty  Home and lifestyle  Sports and travel  \n",
       "Gender                                                                  \n",
       "Female                  18561.0             30037.0            28575.0  \n",
       "Male                    30633.0             23825.0            26548.0  "
      ]
     },
     "execution_count": 42,
     "metadata": {},
     "output_type": "execute_result"
    }
   ],
   "source": [
    "pt=df.pivot_table(index=\"Gender\", columns=\"Product line\", values=\"Total\", aggfunc=\"sum\").round(0)\n",
    "#set two coloumn into a n*n metrix\n",
    "\n",
    "pt"
   ]
  },
  {
   "cell_type": "code",
   "execution_count": 43,
   "id": "7da3e8b6",
   "metadata": {
    "ExecuteTime": {
     "end_time": "2022-06-26T14:29:14.779849Z",
     "start_time": "2022-06-26T14:29:14.766263Z"
    }
   },
   "outputs": [],
   "source": [
    "pt.to_excel(\"pt.xlsx\",\"Report\",startrow=4)"
   ]
  },
  {
   "cell_type": "code",
   "execution_count": 44,
   "id": "6cec3f98",
   "metadata": {
    "ExecuteTime": {
     "end_time": "2022-06-26T14:29:14.783160Z",
     "start_time": "2022-06-26T14:29:14.781354Z"
    }
   },
   "outputs": [],
   "source": [
    "# add chart"
   ]
  },
  {
   "cell_type": "code",
   "execution_count": 45,
   "id": "e8f086c2",
   "metadata": {
    "ExecuteTime": {
     "end_time": "2022-06-26T14:29:14.804299Z",
     "start_time": "2022-06-26T14:29:14.784607Z"
    },
    "scrolled": true
   },
   "outputs": [
    {
     "name": "stdout",
     "output_type": "stream",
     "text": [
      "[1, 7, 5, 7]\n"
     ]
    }
   ],
   "source": [
    "from openpyxl import load_workbook\n",
    "\n",
    "wb = load_workbook(\"pt.xlsx\")\n",
    "sheet = wb[\"Report\"]\n",
    "\n",
    "min_col = wb.active.min_column\n",
    "max_col = wb.active.max_column\n",
    "min_row = wb.active.min_row\n",
    "max_row = wb.active.max_row\n",
    "\n",
    "lst=[\n",
    "    min_col,\n",
    "    max_col,\n",
    "    min_row,\n",
    "    max_row \n",
    "]\n",
    "\n",
    "print(lst)\n",
    "\n",
    "from openpyxl.chart import (\n",
    "    BarChart,\n",
    "    Reference\n",
    ")\n",
    "\n",
    "bc= BarChart()\n",
    "\n",
    "data=Reference(sheet,\n",
    "        min_col=lst[0]+1,\n",
    "        max_col=lst[1],\n",
    "        min_row=lst[2],\n",
    "        max_row=lst[3]\n",
    "         )\n",
    "\n",
    "category=Reference(sheet,\n",
    "        min_col=lst[0],\n",
    "        max_col=lst[0],\n",
    "        min_row=lst[2]+1,\n",
    "        max_row=lst[3])\n",
    "\n",
    "bc.add_data(data, titles_from_data=True)\n",
    "bc.title = \"Sales By PL\"\n",
    "bc.style = 6\n",
    "bc.set_categories(category)\n",
    "\n",
    "sheet.add_chart(bc,\"B12\" )\n",
    "wb.save(\"bc.xlsx\")\n"
   ]
  },
  {
   "cell_type": "code",
   "execution_count": 46,
   "id": "ea2f353b",
   "metadata": {
    "ExecuteTime": {
     "end_time": "2022-06-26T14:29:14.808262Z",
     "start_time": "2022-06-26T14:29:14.805663Z"
    }
   },
   "outputs": [],
   "source": [
    "# Formula"
   ]
  },
  {
   "cell_type": "code",
   "execution_count": 47,
   "id": "6b92f4d7",
   "metadata": {
    "ExecuteTime": {
     "end_time": "2022-06-26T14:29:14.821792Z",
     "start_time": "2022-06-26T14:29:14.809988Z"
    }
   },
   "outputs": [],
   "source": [
    "from openpyxl.utils import get_column_letter\n",
    "for i in range(min_col+1,max_col+1):\n",
    "    sheet[f'{get_column_letter(i)}8'] =f\"=SUM({get_column_letter(i)}6:{get_column_letter(i)}7)\"\n",
    "\n",
    "wb.save(\"rp.xlsx\")"
   ]
  }
 ],
 "metadata": {
  "kernelspec": {
   "display_name": "Python 3 (ipykernel)",
   "language": "python",
   "name": "python3"
  },
  "language_info": {
   "codemirror_mode": {
    "name": "ipython",
    "version": 3
   },
   "file_extension": ".py",
   "mimetype": "text/x-python",
   "name": "python",
   "nbconvert_exporter": "python",
   "pygments_lexer": "ipython3",
   "version": "3.9.7"
  },
  "toc": {
   "base_numbering": 1,
   "nav_menu": {},
   "number_sections": true,
   "sideBar": true,
   "skip_h1_title": false,
   "title_cell": "Table of Contents",
   "title_sidebar": "Contents",
   "toc_cell": false,
   "toc_position": {},
   "toc_section_display": true,
   "toc_window_display": false
  }
 },
 "nbformat": 4,
 "nbformat_minor": 5
}
